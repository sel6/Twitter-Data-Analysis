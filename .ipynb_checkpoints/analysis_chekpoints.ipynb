{
 "cells": [
  {
   "cell_type": "markdown",
   "id": "8a856c61",
   "metadata": {},
   "source": [
    "# Twitter Data Analysis and Modeling"
   ]
  },
  {
   "cell_type": "markdown",
   "id": "82c739b1",
   "metadata": {},
   "source": [
    "## Setting up"
   ]
  },
  {
   "cell_type": "markdown",
   "id": "23ebe324",
   "metadata": {},
   "source": [
    "importing relevant packages"
   ]
  },
  {
   "cell_type": "code",
   "execution_count": 1,
   "id": "22fb72c4",
   "metadata": {},
   "outputs": [],
   "source": [
    "import pandas as pd\n",
    "import numpy as np\n",
    "import matplotlib.pyplot as plt\n",
    "from sklearn.model_selection import train_test_split\n",
    "from sklearn.linear_model import SGDClassifier\n",
    "from sklearn.linear_model import SGDClassifier\n",
    "from sklearn.preprocessing import StandardScaler\n",
    "from sklearn.pipeline import make_pipeline\n",
    "from sklearn.feature_extraction.text import CountVectorizer\n",
    "import re\n"
   ]
  },
  {
   "cell_type": "markdown",
   "id": "cbe72606",
   "metadata": {},
   "source": [
    "importnig processing scripts"
   ]
  },
  {
   "cell_type": "code",
   "execution_count": 2,
   "id": "1a4c8418",
   "metadata": {},
   "outputs": [],
   "source": [
    "from extract_dataframe import read_json         # a function to load json_data \n",
    "from extract_dataframe import TweetDfExtractor  # and a class to extract relevant variables.    \n",
    "from clean_tweets_dataframe import Clean_Tweets        # collection of functions to for cleaning the dataframe.\n",
    "import dashboard_manager as ds_m   # imports a list of functions to create a dashboard\n",
    "import database_manager as db_m  # a list of functions to create a database, create tables, and manage data input-output."
   ]
  },
  {
   "cell_type": "markdown",
   "id": "aa0b9935",
   "metadata": {},
   "source": [
    "Loading JSON file, selecting relevant variables, and generating a CSV file."
   ]
  },
  {
   "cell_type": "code",
   "execution_count": null,
   "id": "a51d517a",
   "metadata": {},
   "outputs": [],
   "source": [
    "_, tweet_list = read_json(\"data/Economic_Twitter_Data.json\")\n",
    "tweet = TweetDfExtractor(tweet_list)\n",
    "tweet.get_tweet_df(True)  # this will also generate a CSV file.\n",
    "print(\"Please, load the CSV file\")"
   ]
  },
  {
   "cell_type": "markdown",
   "id": "83e6b174",
   "metadata": {},
   "source": [
    "Loading CSV file"
   ]
  },
  {
   "cell_type": "code",
   "execution_count": 3,
   "id": "7ea21d97",
   "metadata": {},
   "outputs": [],
   "source": [
    "tweet_df = pd.read_csv('processed_tweet_data.csv')  # loads the csv file created above."
   ]
  },
  {
   "cell_type": "markdown",
   "id": "7b9f528c",
   "metadata": {},
   "source": [
    "## Data Cleaning"
   ]
  },
  {
   "cell_type": "markdown",
   "id": "4fbc8728",
   "metadata": {},
   "source": [
    "Running common data cleaning operations from the Clean_Tweets class...!!!"
   ]
  },
  {
   "cell_type": "code",
   "execution_count": 4,
   "id": "50915cf1",
   "metadata": {},
   "outputs": [
    {
     "name": "stdout",
     "output_type": "stream",
     "text": [
      "Data cleaning in Action...!!!\n",
      "Unwanted_columns successfully removed\n",
      "Duplicate rows successfully removed\n",
      "Strings successfully converted to datetime object\n",
      "Strings successfully converted to numeric object\n",
      "Non-English languages succesfully removed\n"
     ]
    },
    {
     "name": "stderr",
     "output_type": "stream",
     "text": [
      "C:\\Users\\IRONMAN\\AppData\\Local\\Temp\\ipykernel_10276\\1861009865.py:7: SettingWithCopyWarning: \n",
      "A value is trying to be set on a copy of a slice from a DataFrame.\n",
      "Try using .loc[row_indexer,col_indexer] = value instead\n",
      "\n",
      "See the caveats in the documentation: https://pandas.pydata.org/pandas-docs/stable/user_guide/indexing.html#returning-a-view-versus-a-copy\n",
      "  clean_tweet_df[\"source\"] = clean_tweet_df[\"source\"].apply(cleaner.get_source_name)\n"
     ]
    }
   ],
   "source": [
    "cleaner = Clean_Tweets(tweet_df)\n",
    "tweet_df = cleaner.drop_unwanted_column(tweet_df)\n",
    "tweet_df = cleaner.drop_duplicate(tweet_df)\n",
    "tweet_df = cleaner.convert_to_datetime(tweet_df)\n",
    "tweet_df = cleaner.convert_to_numbers(tweet_df)\n",
    "clean_tweet_df = cleaner.remove_non_english_tweets(tweet_df)\n",
    "clean_tweet_df[\"source\"] = clean_tweet_df[\"source\"].apply(cleaner.get_source_name)"
   ]
  },
  {
   "cell_type": "markdown",
   "id": "e8247232",
   "metadata": {},
   "source": [
    "## Data Exploration and Reorganization"
   ]
  },
  {
   "cell_type": "code",
   "execution_count": 5,
   "id": "8432f477",
   "metadata": {},
   "outputs": [
    {
     "data": {
      "text/plain": [
       "(16374, 17)"
      ]
     },
     "execution_count": 5,
     "metadata": {},
     "output_type": "execute_result"
    }
   ],
   "source": [
    "clean_tweet_df.shape   # checking the number of columns and rows."
   ]
  },
  {
   "cell_type": "code",
   "execution_count": 6,
   "id": "8a5d251f",
   "metadata": {},
   "outputs": [
    {
     "name": "stdout",
     "output_type": "stream",
     "text": [
      "<class 'pandas.core.frame.DataFrame'>\n",
      "Int64Index: 16374 entries, 38 to 24622\n",
      "Data columns (total 17 columns):\n",
      " #   Column              Non-Null Count  Dtype              \n",
      "---  ------              --------------  -----              \n",
      " 0   created_at          16374 non-null  datetime64[ns, UTC]\n",
      " 1   source              16374 non-null  object             \n",
      " 2   original_text       16374 non-null  object             \n",
      " 3   clean_text          16371 non-null  object             \n",
      " 4   polarity            16374 non-null  float64            \n",
      " 5   subjectivity        16374 non-null  float64            \n",
      " 6   screen_name         16374 non-null  object             \n",
      " 7   language            16374 non-null  object             \n",
      " 8   retweet_count       16374 non-null  int64              \n",
      " 9   friends_count       16374 non-null  int64              \n",
      " 10  hashtags            16374 non-null  object             \n",
      " 11  statuses            16374 non-null  int64              \n",
      " 12  followers_count     16374 non-null  int64              \n",
      " 13  user_mentions       16374 non-null  object             \n",
      " 14  possibly_sensitive  6168 non-null   object             \n",
      " 15  favourites_count    16374 non-null  int64              \n",
      " 16  location            10671 non-null  object             \n",
      "dtypes: datetime64[ns, UTC](1), float64(2), int64(5), object(9)\n",
      "memory usage: 2.2+ MB\n"
     ]
    }
   ],
   "source": [
    "clean_tweet_df.info()  # checking available columns, their datatypes and Null count"
   ]
  },
  {
   "cell_type": "code",
   "execution_count": 7,
   "id": "d7dc6445",
   "metadata": {},
   "outputs": [
    {
     "data": {
      "text/plain": [
       "created_at            15675\n",
       "source                   53\n",
       "original_text         15082\n",
       "clean_text            15022\n",
       "polarity               1047\n",
       "subjectivity            877\n",
       "screen_name             464\n",
       "language                  1\n",
       "retweet_count          1718\n",
       "friends_count           394\n",
       "hashtags               4293\n",
       "statuses                458\n",
       "followers_count         426\n",
       "user_mentions          7939\n",
       "possibly_sensitive        2\n",
       "favourites_count        458\n",
       "location                220\n",
       "dtype: int64"
      ]
     },
     "execution_count": 7,
     "metadata": {},
     "output_type": "execute_result"
    }
   ],
   "source": [
    "clean_tweet_df.nunique() # checks unique values in each columns"
   ]
  },
  {
   "cell_type": "markdown",
   "id": "a0ab342e",
   "metadata": {},
   "source": [
    "<h3>Observation:</h3>\n",
    "    <li> There are a total of 16374 obsrvations and 17 variables </li>\n",
    "    <li> There are 464 unique users</li>\n",
    "    <li> There are 220 unique locations.</li>"
   ]
  },
  {
   "cell_type": "code",
   "execution_count": 8,
   "id": "761534c3",
   "metadata": {},
   "outputs": [
    {
     "data": {
      "text/html": [
       "<div>\n",
       "<style scoped>\n",
       "    .dataframe tbody tr th:only-of-type {\n",
       "        vertical-align: middle;\n",
       "    }\n",
       "\n",
       "    .dataframe tbody tr th {\n",
       "        vertical-align: top;\n",
       "    }\n",
       "\n",
       "    .dataframe thead th {\n",
       "        text-align: right;\n",
       "    }\n",
       "</style>\n",
       "<table border=\"1\" class=\"dataframe\">\n",
       "  <thead>\n",
       "    <tr style=\"text-align: right;\">\n",
       "      <th></th>\n",
       "      <th>created_at</th>\n",
       "      <th>source</th>\n",
       "      <th>original_text</th>\n",
       "      <th>clean_text</th>\n",
       "      <th>polarity</th>\n",
       "      <th>subjectivity</th>\n",
       "      <th>screen_name</th>\n",
       "      <th>language</th>\n",
       "      <th>retweet_count</th>\n",
       "      <th>friends_count</th>\n",
       "      <th>hashtags</th>\n",
       "      <th>statuses</th>\n",
       "      <th>followers_count</th>\n",
       "      <th>user_mentions</th>\n",
       "      <th>possibly_sensitive</th>\n",
       "      <th>favourites_count</th>\n",
       "      <th>location</th>\n",
       "    </tr>\n",
       "  </thead>\n",
       "  <tbody>\n",
       "    <tr>\n",
       "      <th>38</th>\n",
       "      <td>2022-04-22 22:17:05+00:00</td>\n",
       "      <td>Twitter for Android</td>\n",
       "      <td>RT @NorthstarCharts: The 10-year yield is tell...</td>\n",
       "      <td>The 10-year yield is telling us that there's ...</td>\n",
       "      <td>0.16</td>\n",
       "      <td>0.540000</td>\n",
       "      <td>davideiacovozzi</td>\n",
       "      <td>en</td>\n",
       "      <td>43</td>\n",
       "      <td>55</td>\n",
       "      <td>[{'text': 'gold', 'indices': [116, 121]}, {'te...</td>\n",
       "      <td>281</td>\n",
       "      <td>18</td>\n",
       "      <td>[{'screen_name': 'NorthstarCharts', 'name': 'N...</td>\n",
       "      <td>NaN</td>\n",
       "      <td>12179</td>\n",
       "      <td>NaN</td>\n",
       "    </tr>\n",
       "    <tr>\n",
       "      <th>39</th>\n",
       "      <td>2022-04-22 13:44:53+00:00</td>\n",
       "      <td>Twitter for Android</td>\n",
       "      <td>RT @MichaelAArouet: German 10y mortgage rate w...</td>\n",
       "      <td>…</td>\n",
       "      <td>0.00</td>\n",
       "      <td>0.000000</td>\n",
       "      <td>davideiacovozzi</td>\n",
       "      <td>en</td>\n",
       "      <td>32</td>\n",
       "      <td>55</td>\n",
       "      <td>[]</td>\n",
       "      <td>281</td>\n",
       "      <td>18</td>\n",
       "      <td>[{'screen_name': 'MichaelAArouet', 'name': 'Mi...</td>\n",
       "      <td>NaN</td>\n",
       "      <td>12179</td>\n",
       "      <td>NaN</td>\n",
       "    </tr>\n",
       "    <tr>\n",
       "      <th>41</th>\n",
       "      <td>2022-04-22 06:10:34+00:00</td>\n",
       "      <td>Twitter for Android</td>\n",
       "      <td>RT @goldseek: When? https://t.co/kO2FfHKaZg</td>\n",
       "      <td>//t.co/kO2FfHKaZg</td>\n",
       "      <td>0.00</td>\n",
       "      <td>0.000000</td>\n",
       "      <td>davideiacovozzi</td>\n",
       "      <td>en</td>\n",
       "      <td>26</td>\n",
       "      <td>55</td>\n",
       "      <td>[]</td>\n",
       "      <td>281</td>\n",
       "      <td>18</td>\n",
       "      <td>[{'screen_name': 'goldseek', 'name': 'Peter ⚒ ...</td>\n",
       "      <td>False</td>\n",
       "      <td>12179</td>\n",
       "      <td>NaN</td>\n",
       "    </tr>\n",
       "    <tr>\n",
       "      <th>42</th>\n",
       "      <td>2022-04-21 17:22:09+00:00</td>\n",
       "      <td>Twitter for Android</td>\n",
       "      <td>RT @charliebilello: The 30-year mortgage rate ...</td>\n",
       "      <td>The 30-year mortgage rate in the US rises to ...</td>\n",
       "      <td>0.00</td>\n",
       "      <td>0.183333</td>\n",
       "      <td>davideiacovozzi</td>\n",
       "      <td>en</td>\n",
       "      <td>213</td>\n",
       "      <td>55</td>\n",
       "      <td>[]</td>\n",
       "      <td>281</td>\n",
       "      <td>18</td>\n",
       "      <td>[{'screen_name': 'charliebilello', 'name': 'Ch...</td>\n",
       "      <td>NaN</td>\n",
       "      <td>12179</td>\n",
       "      <td>NaN</td>\n",
       "    </tr>\n",
       "    <tr>\n",
       "      <th>43</th>\n",
       "      <td>2022-04-21 10:32:26+00:00</td>\n",
       "      <td>Twitter for Android</td>\n",
       "      <td>RT @biancoresearch: Rates rise until something...</td>\n",
       "      <td>//t.co/brNJeK3WTb</td>\n",
       "      <td>0.00</td>\n",
       "      <td>0.000000</td>\n",
       "      <td>davideiacovozzi</td>\n",
       "      <td>en</td>\n",
       "      <td>417</td>\n",
       "      <td>55</td>\n",
       "      <td>[]</td>\n",
       "      <td>281</td>\n",
       "      <td>18</td>\n",
       "      <td>[{'screen_name': 'biancoresearch', 'name': 'Ji...</td>\n",
       "      <td>False</td>\n",
       "      <td>12179</td>\n",
       "      <td>NaN</td>\n",
       "    </tr>\n",
       "  </tbody>\n",
       "</table>\n",
       "</div>"
      ],
      "text/plain": [
       "                  created_at               source  \\\n",
       "38 2022-04-22 22:17:05+00:00  Twitter for Android   \n",
       "39 2022-04-22 13:44:53+00:00  Twitter for Android   \n",
       "41 2022-04-22 06:10:34+00:00  Twitter for Android   \n",
       "42 2022-04-21 17:22:09+00:00  Twitter for Android   \n",
       "43 2022-04-21 10:32:26+00:00  Twitter for Android   \n",
       "\n",
       "                                        original_text  \\\n",
       "38  RT @NorthstarCharts: The 10-year yield is tell...   \n",
       "39  RT @MichaelAArouet: German 10y mortgage rate w...   \n",
       "41        RT @goldseek: When? https://t.co/kO2FfHKaZg   \n",
       "42  RT @charliebilello: The 30-year mortgage rate ...   \n",
       "43  RT @biancoresearch: Rates rise until something...   \n",
       "\n",
       "                                           clean_text  polarity  subjectivity  \\\n",
       "38   The 10-year yield is telling us that there's ...      0.16      0.540000   \n",
       "39                                                  …      0.00      0.000000   \n",
       "41                                  //t.co/kO2FfHKaZg      0.00      0.000000   \n",
       "42   The 30-year mortgage rate in the US rises to ...      0.00      0.183333   \n",
       "43                                  //t.co/brNJeK3WTb      0.00      0.000000   \n",
       "\n",
       "        screen_name language  retweet_count  friends_count  \\\n",
       "38  davideiacovozzi       en             43             55   \n",
       "39  davideiacovozzi       en             32             55   \n",
       "41  davideiacovozzi       en             26             55   \n",
       "42  davideiacovozzi       en            213             55   \n",
       "43  davideiacovozzi       en            417             55   \n",
       "\n",
       "                                             hashtags  statuses  \\\n",
       "38  [{'text': 'gold', 'indices': [116, 121]}, {'te...       281   \n",
       "39                                                 []       281   \n",
       "41                                                 []       281   \n",
       "42                                                 []       281   \n",
       "43                                                 []       281   \n",
       "\n",
       "    followers_count                                      user_mentions  \\\n",
       "38               18  [{'screen_name': 'NorthstarCharts', 'name': 'N...   \n",
       "39               18  [{'screen_name': 'MichaelAArouet', 'name': 'Mi...   \n",
       "41               18  [{'screen_name': 'goldseek', 'name': 'Peter ⚒ ...   \n",
       "42               18  [{'screen_name': 'charliebilello', 'name': 'Ch...   \n",
       "43               18  [{'screen_name': 'biancoresearch', 'name': 'Ji...   \n",
       "\n",
       "   possibly_sensitive  favourites_count location  \n",
       "38                NaN             12179      NaN  \n",
       "39                NaN             12179      NaN  \n",
       "41              False             12179      NaN  \n",
       "42                NaN             12179      NaN  \n",
       "43              False             12179      NaN  "
      ]
     },
     "execution_count": 8,
     "metadata": {},
     "output_type": "execute_result"
    }
   ],
   "source": [
    "clean_tweet_df.head()  #checking the top 6 rows."
   ]
  },
  {
   "cell_type": "code",
   "execution_count": 9,
   "id": "d7e2c464",
   "metadata": {},
   "outputs": [
    {
     "data": {
      "text/html": [
       "<div>\n",
       "<style scoped>\n",
       "    .dataframe tbody tr th:only-of-type {\n",
       "        vertical-align: middle;\n",
       "    }\n",
       "\n",
       "    .dataframe tbody tr th {\n",
       "        vertical-align: top;\n",
       "    }\n",
       "\n",
       "    .dataframe thead th {\n",
       "        text-align: right;\n",
       "    }\n",
       "</style>\n",
       "<table border=\"1\" class=\"dataframe\">\n",
       "  <thead>\n",
       "    <tr style=\"text-align: right;\">\n",
       "      <th></th>\n",
       "      <th>polarity</th>\n",
       "      <th>subjectivity</th>\n",
       "      <th>retweet_count</th>\n",
       "      <th>friends_count</th>\n",
       "      <th>statuses</th>\n",
       "      <th>followers_count</th>\n",
       "      <th>favourites_count</th>\n",
       "    </tr>\n",
       "  </thead>\n",
       "  <tbody>\n",
       "    <tr>\n",
       "      <th>count</th>\n",
       "      <td>16374.000000</td>\n",
       "      <td>16374.000000</td>\n",
       "      <td>16374.000000</td>\n",
       "      <td>16374.000000</td>\n",
       "      <td>1.637400e+04</td>\n",
       "      <td>1.637400e+04</td>\n",
       "      <td>16374.000000</td>\n",
       "    </tr>\n",
       "    <tr>\n",
       "      <th>mean</th>\n",
       "      <td>0.083105</td>\n",
       "      <td>0.295141</td>\n",
       "      <td>627.341151</td>\n",
       "      <td>1337.912056</td>\n",
       "      <td>4.503068e+04</td>\n",
       "      <td>5.359397e+04</td>\n",
       "      <td>22503.216563</td>\n",
       "    </tr>\n",
       "    <tr>\n",
       "      <th>std</th>\n",
       "      <td>0.271508</td>\n",
       "      <td>0.314911</td>\n",
       "      <td>7104.387606</td>\n",
       "      <td>2975.315626</td>\n",
       "      <td>1.473958e+05</td>\n",
       "      <td>4.328630e+05</td>\n",
       "      <td>49450.473604</td>\n",
       "    </tr>\n",
       "    <tr>\n",
       "      <th>min</th>\n",
       "      <td>-1.000000</td>\n",
       "      <td>0.000000</td>\n",
       "      <td>0.000000</td>\n",
       "      <td>0.000000</td>\n",
       "      <td>1.000000e+00</td>\n",
       "      <td>0.000000e+00</td>\n",
       "      <td>0.000000</td>\n",
       "    </tr>\n",
       "    <tr>\n",
       "      <th>25%</th>\n",
       "      <td>0.000000</td>\n",
       "      <td>0.000000</td>\n",
       "      <td>0.000000</td>\n",
       "      <td>113.000000</td>\n",
       "      <td>1.610000e+03</td>\n",
       "      <td>1.120000e+02</td>\n",
       "      <td>542.000000</td>\n",
       "    </tr>\n",
       "    <tr>\n",
       "      <th>50%</th>\n",
       "      <td>0.000000</td>\n",
       "      <td>0.233333</td>\n",
       "      <td>2.000000</td>\n",
       "      <td>437.000000</td>\n",
       "      <td>7.322000e+03</td>\n",
       "      <td>5.430000e+02</td>\n",
       "      <td>4295.000000</td>\n",
       "    </tr>\n",
       "    <tr>\n",
       "      <th>75%</th>\n",
       "      <td>0.200000</td>\n",
       "      <td>0.500000</td>\n",
       "      <td>34.000000</td>\n",
       "      <td>1433.000000</td>\n",
       "      <td>3.159900e+04</td>\n",
       "      <td>2.131000e+03</td>\n",
       "      <td>20269.000000</td>\n",
       "    </tr>\n",
       "    <tr>\n",
       "      <th>max</th>\n",
       "      <td>1.000000</td>\n",
       "      <td>1.000000</td>\n",
       "      <td>434379.000000</td>\n",
       "      <td>41866.000000</td>\n",
       "      <td>2.307455e+06</td>\n",
       "      <td>6.027402e+06</td>\n",
       "      <td>529419.000000</td>\n",
       "    </tr>\n",
       "  </tbody>\n",
       "</table>\n",
       "</div>"
      ],
      "text/plain": [
       "           polarity  subjectivity  retweet_count  friends_count      statuses  \\\n",
       "count  16374.000000  16374.000000   16374.000000   16374.000000  1.637400e+04   \n",
       "mean       0.083105      0.295141     627.341151    1337.912056  4.503068e+04   \n",
       "std        0.271508      0.314911    7104.387606    2975.315626  1.473958e+05   \n",
       "min       -1.000000      0.000000       0.000000       0.000000  1.000000e+00   \n",
       "25%        0.000000      0.000000       0.000000     113.000000  1.610000e+03   \n",
       "50%        0.000000      0.233333       2.000000     437.000000  7.322000e+03   \n",
       "75%        0.200000      0.500000      34.000000    1433.000000  3.159900e+04   \n",
       "max        1.000000      1.000000  434379.000000   41866.000000  2.307455e+06   \n",
       "\n",
       "       followers_count  favourites_count  \n",
       "count     1.637400e+04      16374.000000  \n",
       "mean      5.359397e+04      22503.216563  \n",
       "std       4.328630e+05      49450.473604  \n",
       "min       0.000000e+00          0.000000  \n",
       "25%       1.120000e+02        542.000000  \n",
       "50%       5.430000e+02       4295.000000  \n",
       "75%       2.131000e+03      20269.000000  \n",
       "max       6.027402e+06     529419.000000  "
      ]
     },
     "execution_count": 9,
     "metadata": {},
     "output_type": "execute_result"
    }
   ],
   "source": [
    "clean_tweet_df.describe()   # summarizing numerical columns."
   ]
  },
  {
   "cell_type": "markdown",
   "id": "1cc4c641",
   "metadata": {},
   "source": [
    "<h3>Observation:</h3>\n",
    "    <li>75% of polarity values are below or equal to 0.2, which suggests negative polarity</li>\n",
    "    <li>75% of subjectivity values are below or equal to 0.5, which suggests prevalence of opinions rather than facts</li>"
   ]
  },
  {
   "cell_type": "markdown",
   "id": "335f1add",
   "metadata": {},
   "source": [
    "selection and reorganization of variables"
   ]
  },
  {
   "cell_type": "code",
   "execution_count": 10,
   "id": "ce111fa8",
   "metadata": {},
   "outputs": [
    {
     "name": "stdout",
     "output_type": "stream",
     "text": [
      "(16374, 17)\n",
      "(16374, 14)\n",
      "(10669, 14)\n"
     ]
    }
   ],
   "source": [
    "# selecting only the relevant variables for further analysis\n",
    "sho_tweet_df = clean_tweet_df.drop(['original_text', 'user_mentions', 'possibly_sensitive'], axis=1)\n",
    "loc_tweet_df = sho_tweet_df.dropna() # droping rows with null values\n",
    "\n",
    "#resetting indexes\n",
    "sho_tweet_df = sho_tweet_df.reset_index();\n",
    "sho_tweet_df = sho_tweet_df.drop(columns=['index'])\n",
    "\n",
    "loc_tweet_df = loc_tweet_df.reset_index();\n",
    "loc_tweet_df = loc_tweet_df.drop(columns=['index'])\n",
    "\n",
    "print(clean_tweet_df.shape)\n",
    "print(sho_tweet_df.shape)\n",
    "print(loc_tweet_df.shape)"
   ]
  },
  {
   "cell_type": "markdown",
   "id": "296cea0e",
   "metadata": {},
   "source": [
    "creating a new variable: sentiment"
   ]
  },
  {
   "cell_type": "code",
   "execution_count": 11,
   "id": "f54f8177",
   "metadata": {},
   "outputs": [],
   "source": [
    "def sentiment_group (p): \n",
    "    if p > 0:\n",
    "        return 'positive'\n",
    "    elif p < 0:\n",
    "        return 'negative'\n",
    "    else:\n",
    "        return 'neutral'"
   ]
  },
  {
   "cell_type": "code",
   "execution_count": 12,
   "id": "fb4f5b95",
   "metadata": {},
   "outputs": [],
   "source": [
    "sentiment = pd.Series([sentiment_group(row_val) for row_val in list(loc_tweet_df['polarity'])])"
   ]
  },
  {
   "cell_type": "code",
   "execution_count": 13,
   "id": "caa931ae",
   "metadata": {},
   "outputs": [
    {
     "name": "stdout",
     "output_type": "stream",
     "text": [
      "<class 'pandas.core.frame.DataFrame'>\n",
      "Int64Index: 16374 entries, 0 to 16373\n",
      "Data columns (total 15 columns):\n",
      " #   Column            Non-Null Count  Dtype              \n",
      "---  ------            --------------  -----              \n",
      " 0   created_at        16374 non-null  datetime64[ns, UTC]\n",
      " 1   source            16374 non-null  object             \n",
      " 2   clean_text        16371 non-null  object             \n",
      " 3   polarity          16374 non-null  float64            \n",
      " 4   subjectivity      16374 non-null  float64            \n",
      " 5   screen_name       16374 non-null  object             \n",
      " 6   language          16374 non-null  object             \n",
      " 7   retweet_count     16374 non-null  int64              \n",
      " 8   friends_count     16374 non-null  int64              \n",
      " 9   hashtags          16374 non-null  object             \n",
      " 10  statuses          16374 non-null  int64              \n",
      " 11  followers_count   16374 non-null  int64              \n",
      " 12  favourites_count  16374 non-null  int64              \n",
      " 13  location          10671 non-null  object             \n",
      " 14  sentiment         10669 non-null  object             \n",
      "dtypes: datetime64[ns, UTC](1), float64(2), int64(5), object(7)\n",
      "memory usage: 2.0+ MB\n"
     ]
    }
   ],
   "source": [
    "sho_tweet_df = pd.concat([sho_tweet_df, sentiment.rename(\"sentiment\")], axis=1)\n",
    "loc_tweet_df = pd.concat([loc_tweet_df, sentiment.rename(\"sentiment\")], axis=1)\n",
    "\n",
    "sho_tweet_df.info()"
   ]
  },
  {
   "cell_type": "code",
   "execution_count": 14,
   "id": "9cf28214",
   "metadata": {},
   "outputs": [
    {
     "name": "stdout",
     "output_type": "stream",
     "text": [
      "<class 'pandas.core.frame.DataFrame'>\n",
      "RangeIndex: 10669 entries, 0 to 10668\n",
      "Data columns (total 15 columns):\n",
      " #   Column            Non-Null Count  Dtype              \n",
      "---  ------            --------------  -----              \n",
      " 0   created_at        10669 non-null  datetime64[ns, UTC]\n",
      " 1   source            10669 non-null  object             \n",
      " 2   clean_text        10669 non-null  object             \n",
      " 3   polarity          10669 non-null  float64            \n",
      " 4   subjectivity      10669 non-null  float64            \n",
      " 5   screen_name       10669 non-null  object             \n",
      " 6   language          10669 non-null  object             \n",
      " 7   retweet_count     10669 non-null  int64              \n",
      " 8   friends_count     10669 non-null  int64              \n",
      " 9   hashtags          10669 non-null  object             \n",
      " 10  statuses          10669 non-null  int64              \n",
      " 11  followers_count   10669 non-null  int64              \n",
      " 12  favourites_count  10669 non-null  int64              \n",
      " 13  location          10669 non-null  object             \n",
      " 14  sentiment         10669 non-null  object             \n",
      "dtypes: datetime64[ns, UTC](1), float64(2), int64(5), object(7)\n",
      "memory usage: 1.2+ MB\n"
     ]
    }
   ],
   "source": [
    "loc_tweet_df.info()"
   ]
  },
  {
   "cell_type": "markdown",
   "id": "821ac76b",
   "metadata": {},
   "source": [
    "## Inserting To Database"
   ]
  },
  {
   "cell_type": "code",
   "execution_count": null,
   "id": "98f19261",
   "metadata": {},
   "outputs": [],
   "source": [
    "# create a database if it doesn't exist\n",
    "db_m.createDB(dbName='tweets')\n",
    "\n",
    "# create a table if it doesn't exit\n",
    "db_m.createTables(dbName='tweets')\n",
    "\n",
    "# inserting data.\n",
    "insert_to_tweet_table(dbName='tweets', df=loc_clean_df, table_name='TweetInformation')\n"
   ]
  },
  {
   "cell_type": "markdown",
   "id": "935ad186",
   "metadata": {},
   "source": [
    "## Loading data from Database"
   ]
  },
  {
   "cell_type": "code",
   "execution_count": null,
   "id": "f2ac1d08",
   "metadata": {},
   "outputs": [],
   "source": [
    "# load dataframe.\n"
   ]
  },
  {
   "cell_type": "markdown",
   "id": "f42ea042",
   "metadata": {},
   "source": [
    "## Analysis and Visualization\n"
   ]
  },
  {
   "cell_type": "code",
   "execution_count": 15,
   "id": "c0c780a9",
   "metadata": {},
   "outputs": [
    {
     "data": {
      "image/png": "[encoded data removed]",
      "text/plain": [
       "<Figure size 432x288 with 1 Axes>"
      ]
     },
     "metadata": {},
     "output_type": "display_data"
    }
   ],
   "source": [
    "loc_tweet_df[\"source\"].value_counts().head(5).plot(kind=\"pie\");"
   ]
  },
  {
   "cell_type": "markdown",
   "id": "40b02628",
   "metadata": {},
   "source": [
    "### Location based explorations"
   ]
  },
  {
   "cell_type": "code",
   "execution_count": 16,
   "id": "1b142eff",
   "metadata": {},
   "outputs": [
    {
     "ename": "KeyError",
     "evalue": "'continent'",
     "output_type": "error",
     "traceback": [
      "\u001b[1;31m---------------------------------------------------------------------------\u001b[0m",
      "\u001b[1;31mKeyError\u001b[0m                                  Traceback (most recent call last)",
      "Input \u001b[1;32mIn [16]\u001b[0m, in \u001b[0;36m<cell line: 4>\u001b[1;34m()\u001b[0m\n\u001b[0;32m      3\u001b[0m african_countries \u001b[38;5;241m=\u001b[39m []\n\u001b[0;32m      4\u001b[0m \u001b[38;5;28;01mfor\u001b[39;00m item \u001b[38;5;129;01min\u001b[39;00m countries:\n\u001b[1;32m----> 5\u001b[0m     \u001b[38;5;28;01mif\u001b[39;00m \u001b[43mitem\u001b[49m\u001b[43m[\u001b[49m\u001b[38;5;124;43m'\u001b[39;49m\u001b[38;5;124;43mcontinent\u001b[39;49m\u001b[38;5;124;43m'\u001b[39;49m\u001b[43m]\u001b[49m \u001b[38;5;241m==\u001b[39m \u001b[38;5;124m'\u001b[39m\u001b[38;5;124mAfrica\u001b[39m\u001b[38;5;124m'\u001b[39m:\n\u001b[0;32m      6\u001b[0m         african_countries\u001b[38;5;241m.\u001b[39mappend(item[\u001b[38;5;124m'\u001b[39m\u001b[38;5;124mname\u001b[39m\u001b[38;5;124m'\u001b[39m])\n\u001b[0;32m      7\u001b[0m         african_countries\u001b[38;5;241m.\u001b[39mappend(item[\u001b[38;5;124m'\u001b[39m\u001b[38;5;124mcapital\u001b[39m\u001b[38;5;124m'\u001b[39m])\n",
      "\u001b[1;31mKeyError\u001b[0m: 'continent'"
     ]
    }
   ],
   "source": [
    "# loading countries basic information module and extracting african countries\n",
    "from countries_info import countries\n",
    "african_countries = []\n",
    "for item in countries:\n",
    "    if item['continent'] == 'Africa':\n",
    "        african_countries.append(item['name'])\n",
    "        african_countries.append(item['capital'])\n",
    "    \n",
    "\n",
    "# extracting countries from africa \n",
    "ava_countries = {}\n",
    "for item in clean_tweet_df.location:\n",
    "    if item in african_countries:\n",
    "        if item not in ava_countries:\n",
    "            ava_countries[item] = 1\n",
    "        else:\n",
    "            ava_countries[item] = ava_countries[item]+1\n",
    "\n",
    "print(\"\\ntweet_count summary by african countries\\n\")\n",
    "# the count of tweets in association with each african countries.            \n",
    "afr_df = pd.DataFrame ({ 'places': ava_countries.keys(), 'tweet_count': ava_countries.values()})\n",
    "afr_df.sort_values(by=['tweet_count'], inplace=True, ascending = False)\n",
    "afr_df['percentage'] = ((afr_df['tweet_count']/loc_tweet_df.shape[0])*100).round(1)\n",
    "print(\"\\n\",afr_df, \"\\n\")\n",
    "\n",
    "# the tweet dataframe filtered by african countries\n",
    "afr_list = list(ava_countries.keys())\n",
    "afr_tweets_df = loc_tweet_df[loc_tweet_df['location'].isin(afr_list)]\n",
    "\n",
    "print(\"tweet count summary by top 10 global countries\\n\")\n",
    "\n",
    "top_loc = loc_tweet_df.groupby(['location']).size().sort_values(ascending=False).to_frame().reset_index().head(10)\n",
    "top_loc.columns = ['places', 'tweet_count']\n",
    "top_loc['percentage'] = ((top_loc['tweet_count']/loc_tweet_df.shape[0])*100).round(1)\n",
    "\n",
    "print(top_loc)\n",
    "    \n"
   ]
  },
  {
   "cell_type": "markdown",
   "id": "4bfe1c8d",
   "metadata": {},
   "source": [
    "<h3>Observations:</h3>\n",
    "    <li> The majority of tweets are not associated with locations</li> \n",
    "    <li> Only four african countries were associated with some tweets: Kenya, South Africa, Namibia, Mauritius</li>\n",
    "    <li> In general India is the most mentioned location, by about 3.1% of the total tweets</li>"
   ]
  },
  {
   "cell_type": "code",
   "execution_count": null,
   "id": "f7e5de82",
   "metadata": {},
   "outputs": [],
   "source": [
    "labels = list(top_loc['places'])\n",
    "values = list(top_loc['tweet_count'])\n",
    "\n",
    "fig = plt.figure(figsize = (15, 5))\n",
    " \n",
    "# creating the bar plot\n",
    "plt.bar(labels, values, color ='purple',\n",
    "        width = 0.4)\n",
    " \n",
    "plt.xlabel(\"Locations\")\n",
    "plt.ylabel(\"Tweet Count\")\n",
    "plt.title(\"Tweets associated with locations\")\n",
    "plt.show()\n"
   ]
  },
  {
   "cell_type": "markdown",
   "id": "15b4d0a2",
   "metadata": {},
   "source": [
    "exploring the sentiment in africa"
   ]
  },
  {
   "cell_type": "code",
   "execution_count": null,
   "id": "1899ea7d",
   "metadata": {},
   "outputs": [],
   "source": [
    "gr_afr = afr_tweets_df.groupby(['location', 'sentiment']).size().to_frame().reset_index()\n",
    "gr_afr.columns=['location','sentiment', 'count']\n",
    "print(gr_afr)\n",
    "# grouping by country and sentiment\n",
    "#afr_tweets_df.groupby(['location', 'sentiment']).size().groupby(level=1).max() # grouping by country and sentiment\n"
   ]
  },
  {
   "cell_type": "markdown",
   "id": "44c0d229",
   "metadata": {},
   "source": [
    "<h3>Observations:</h3>\n",
    "    <li> The majority of tweets associated with african locations have neutral sentiment</li> \n",
    "    <li> tweets associated with sourth africa have the largest number of negative sentiment tweets</li>"
   ]
  },
  {
   "cell_type": "code",
   "execution_count": null,
   "id": "a5e99d12",
   "metadata": {},
   "outputs": [],
   "source": [
    "#filtering dataframe by top locations\n",
    "top_loc_list = list(top_loc['places'])\n",
    "top_loc_tweets_df = loc_tweet_df[loc_tweet_df['location'].isin(top_loc_list)]\n",
    "\n",
    "#grouping by top locations and sentiment\n",
    "gr_all = top_loc_tweets_df.groupby(['location', 'sentiment']).size().to_frame().reset_index()\n",
    "gr_all.columns=['location','sentiment', 'count']\n",
    "print(gr_all)"
   ]
  },
  {
   "cell_type": "markdown",
   "id": "96eb4ec1",
   "metadata": {},
   "source": [
    "<h3>Observations:</h3>\n",
    "    <li> The majority of tweets associated with locations have neutral or positive sentiment</li> \n",
    "    <li> tweets associated with canada have relatively the largest number of negative sentiment tweets followed by India</li>"
   ]
  },
  {
   "cell_type": "code",
   "execution_count": null,
   "id": "12d049f1",
   "metadata": {},
   "outputs": [],
   "source": [
    "\n",
    "\n",
    "positive = len(loc_tweet_df[loc_tweet_df['sentiment'] == \"positive\"])\n",
    "negative = len(loc_tweet_df[loc_tweet_df['sentiment'] == \"negative\"])\n",
    "neutral = len(loc_tweet_df[loc_tweet_df['sentiment'] == \"neutral\"])\n",
    "\n",
    "labels = ['neutral', 'positive', 'negative']\n",
    "values = [negative, positive, neutral]\n",
    "\n",
    "fig = plt.figure(figsize = (15, 5))\n",
    " \n",
    "# creating the bar plot\n",
    "plt.bar(labels, values, color ='orange',\n",
    "        width = 0.4)\n",
    " \n",
    "plt.xlabel(\"Sentiment\")\n",
    "plt.ylabel(\"Tweet Count\")\n",
    "plt.title(\"Tweets associated with Sentiment\")\n",
    "plt.show()"
   ]
  },
  {
   "cell_type": "markdown",
   "id": "0fc85a6b",
   "metadata": {},
   "source": [
    "<h3>Observations:</h3>\n",
    "    <li> in general, negative sentiments are dominanat</li> "
   ]
  },
  {
   "cell_type": "code",
   "execution_count": null,
   "id": "2f9f4960",
   "metadata": {},
   "outputs": [],
   "source": [
    "loc_tweet_df.groupby('sentiment')['clean_text'].count()"
   ]
  },
  {
   "cell_type": "markdown",
   "id": "d82b0a37",
   "metadata": {},
   "source": [
    "## Sentiment analysis and modeling"
   ]
  },
  {
   "cell_type": "code",
   "execution_count": null,
   "id": "69e6bc04",
   "metadata": {},
   "outputs": [],
   "source": [
    "len(sho_tweet_df['polarity'])"
   ]
  },
  {
   "cell_type": "code",
   "execution_count": null,
   "id": "c784b8e1",
   "metadata": {},
   "outputs": [],
   "source": [
    "sho_tweet_df = sho_tweet_df.drop(sho_tweet_df[sho_tweet_df.sentiment == 'neutral'].index)\n",
    "sho_tweet_df = sho_tweet_df.reset_index();\n",
    "sho_tweet_df = sho_tweet_df.drop(columns=['index'])\n",
    "sho_tweet_df.shape"
   ]
  },
  {
   "cell_type": "code",
   "execution_count": null,
   "id": "cb1bbb7d",
   "metadata": {},
   "outputs": [],
   "source": [
    "valueArray = pd.Series([1 if row_val == 'positive' else 0 for row_val in sho_tweet_df['sentiment']])"
   ]
  },
  {
   "cell_type": "code",
   "execution_count": null,
   "id": "bba73e59",
   "metadata": {},
   "outputs": [],
   "source": [
    "sho_tweet_df['valueArray'] = valueArray\n",
    "sho_tweet_df.shape"
   ]
  },
  {
   "cell_type": "code",
   "execution_count": null,
   "id": "9ed4f300",
   "metadata": {},
   "outputs": [],
   "source": [
    "X = sho_tweet_df['clean_text']\n",
    "y = sho_tweet_df['valueArray']"
   ]
  },
  {
   "cell_type": "code",
   "execution_count": null,
   "id": "04a5f965",
   "metadata": {},
   "outputs": [],
   "source": [
    "X_train, X_test, y_train, y_test = train_test_split(X, y, test_size=0.25, random_state=42)"
   ]
  },
  {
   "cell_type": "code",
   "execution_count": null,
   "id": "5a2f9976",
   "metadata": {},
   "outputs": [],
   "source": [
    "print(X_train.size)\n",
    "print(X_test.size)\n",
    "print(y_train.size)\n",
    "print(y_test.size)"
   ]
  },
  {
   "cell_type": "code",
   "execution_count": null,
   "id": "387ca2ef",
   "metadata": {},
   "outputs": [],
   "source": [
    "count_vect = CountVectorizer()\n",
    "X_train = X_train.replace(np.nan, '', regex=True)\n",
    "X_train_counts = count_vect.fit_transform(X_train)\n",
    "X_train_counts = X_train_counts.toarray()"
   ]
  },
  {
   "cell_type": "code",
   "execution_count": null,
   "id": "2fab7925",
   "metadata": {},
   "outputs": [],
   "source": [
    "y_train = y_train.fillna(0)"
   ]
  },
  {
   "cell_type": "code",
   "execution_count": null,
   "id": "b441acbf",
   "metadata": {},
   "outputs": [],
   "source": [
    "# scaling the input\n",
    "clf = make_pipeline(StandardScaler(), SGDClassifier(max_iter=9000, tol=1e-2))"
   ]
  },
  {
   "cell_type": "code",
   "execution_count": null,
   "id": "f1f0b42d",
   "metadata": {},
   "outputs": [],
   "source": [
    "clf.fit(X_train_counts, y_train)"
   ]
  },
  {
   "cell_type": "code",
   "execution_count": null,
   "id": "53e5f5ee",
   "metadata": {},
   "outputs": [],
   "source": [
    "X_test = X_test.replace(np.nan, '', regex=True)\n",
    "# use transform not fit_transform\n",
    "X_test_counts = count_vect.transform(X_test)\n",
    "X_test_counts = X_test_counts.toarray()\n",
    "# prediction = clf.prevaluedict(X_test_counts)\n",
    "prediction = clf.predict(X_test_counts)"
   ]
  },
  {
   "cell_type": "code",
   "execution_count": null,
   "id": "b8f36e30",
   "metadata": {},
   "outputs": [],
   "source": [
    "# making prediction\n",
    "prediction = clf.predict(X_test_counts)"
   ]
  },
  {
   "cell_type": "code",
   "execution_count": null,
   "id": "6fdd13ea",
   "metadata": {},
   "outputs": [],
   "source": [
    "np.mean(prediction == y_test)"
   ]
  },
  {
   "cell_type": "code",
   "execution_count": null,
   "id": "9f9c427b",
   "metadata": {},
   "outputs": [],
   "source": []
  }
 ],
 "metadata": {
  "kernelspec": {
   "display_name": "Python 3 (ipykernel)",
   "language": "python",
   "name": "python3"
  },
  "language_info": {
   "codemirror_mode": {
    "name": "ipython",
    "version": 3
   },
   "file_extension": ".py",
   "mimetype": "text/x-python",
   "name": "python",
   "nbconvert_exporter": "python",
   "pygments_lexer": "ipython3",
   "version": "3.9.1"
  }
 },
 "nbformat": 4,
 "nbformat_minor": 5
}
