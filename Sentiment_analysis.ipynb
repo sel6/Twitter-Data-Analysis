{
 "cells": [
  {
   "cell_type": "code",
   "execution_count": null,
   "metadata": {
    "id": "ai7NTXzQctLv"
   },
   "outputs": [],
   "source": [
    "import pandas as pd\n",
    "import numpy as np\n",
    "import matplotlib.pyplot as plt\n",
    "from sklearn.model_selection import train_test_split\n",
    "from sklearn.linear_model import SGDClassifier"
   ]
  },
  {
   "cell_type": "code",
   "execution_count": null,
   "metadata": {},
   "outputs": [],
   "source": [
    "from extract_dataframe import read_json       \n",
    "from extract_dataframe import TweetDfExtractor    \n",
    "from clean_tweets_dataframe import Clean_Tweets"
   ]
  },
  {
   "cell_type": "code",
   "execution_count": null,
   "metadata": {
    "id": "g07Ab8czc9ES"
   },
   "outputs": [],
   "source": [
    "_, tweet_list = read_json(\"data/Economic_Twitter_Data.json\")\n",
    "tweet = TweetDfExtractor(tweet_list)\n",
    "Data = tweet.get_tweet_df(True)"
   ]
  },
  {
   "cell_type": "code",
   "execution_count": null,
   "metadata": {
    "id": "k5fJkdAfdHrM"
   },
   "outputs": [],
   "source": [
    "cleanTweet = Data[['original_text','polarity']]"
   ]
  },
  {
   "cell_type": "code",
   "execution_count": null,
   "metadata": {
    "id": "2hujAOcRfjQ_"
   },
   "outputs": [],
   "source": [
    "def text_category (sentiment):\n",
    "  if sentiment > 0:\n",
    "    return 'positive'\n",
    "  elif p < 0:\n",
    "    return 'negative'\n",
    "  else:\n",
    "    return 'neutral'"
   ]
  },
  {
   "cell_type": "code",
   "execution_count": null,
   "metadata": {
    "id": "BaTpbde1mfpe"
   },
   "outputs": [],
   "source": [
    "score = pd.Series([text_category(row_val) for row_val in cleanTweet['polarity']])"
   ]
  },
  {
   "cell_type": "code",
   "execution_count": null,
   "metadata": {
    "id": "vfK64SBXpy1F"
   },
   "outputs": [],
   "source": [
    "cleanTweet = pd.concat([cleanTweet, score.rename(\"score\")], axis=1)"
   ]
  },
  {
   "cell_type": "code",
   "execution_count": null,
   "metadata": {
    "colab": {
     "base_uri": "https://localhost:8080/",
     "height": 204
    },
    "id": "2Z2Xi6IWvbHm",
    "outputId": "d3d20c70-8b75-48b4-e44d-13458914add4"
   },
   "outputs": [],
   "source": [
    "cleanTweet.head()"
   ]
  },
  {
   "cell_type": "code",
   "execution_count": null,
   "metadata": {
    "colab": {
     "base_uri": "https://localhost:8080/",
     "height": 328
    },
    "id": "KezysORCm49Q",
    "outputId": "3dc0bcfd-b087-4909-bd34-b6014aee3406"
   },
   "outputs": [],
   "source": [
    "# Visualize The  score  column using piechart and barchart\n",
    "# Pie chart, where the slices will be ordered and plotted counter-clockwise:\n",
    "labels = ['neutral', 'positive', 'negative']\n",
    "positive = len(cleanTweet[cleanTweet['score'] == \"positive\"])\n",
    "negative = len(cleanTweet[cleanTweet['score'] == \"negative\"])\n",
    "neutral = len(cleanTweet[cleanTweet['score'] == \"neutral\"])\n",
    "\n",
    "# Create a figure for 2 subplots (1 row, 2 columns)\n",
    "fig, ax = plt.subplots(1, 1, figsize = (10,4))\n",
    "\n",
    "# Create a bar plot of score column\n",
    "ax.bar(x=labels, height=[negative, positive, neutral], color='blue')\n",
    "ax.set_title('Barchart of score column')\n",
    "ax.set_xticklabels(labels, rotation=90)\n",
    "\n",
    "# Add a title to the Figure\n",
    "fig.suptitle('Score column plots')\n",
    "\n",
    "# Show the figure\n",
    "fig.show()"
   ]
  },
  {
   "cell_type": "code",
   "execution_count": null,
   "metadata": {
    "colab": {
     "base_uri": "https://localhost:8080/"
    },
    "id": "tsu6SlTY7xVG",
    "outputId": "ffb2f2da-9ecd-4fa1-8d87-4bf51dc70ec5"
   },
   "outputs": [],
   "source": [
    "cleanTweet.groupby('score')['original_text'].count()"
   ]
  },
  {
   "cell_type": "code",
   "execution_count": null,
   "metadata": {
    "colab": {
     "base_uri": "https://localhost:8080/"
    },
    "id": "S-gaZl2q8RE5",
    "outputId": "225a22df-3cf4-47af-e651-5f55949b862f"
   },
   "outputs": [],
   "source": [
    "len(cleanTweet['polarity'])"
   ]
  },
  {
   "cell_type": "code",
   "execution_count": null,
   "metadata": {
    "id": "WQz0oM2Oy1g3"
   },
   "outputs": [],
   "source": [
    "cleanTweet = cleanTweet.drop(cleanTweet[cleanTweet.score == 'neutral'].index)"
   ]
  },
  {
   "cell_type": "code",
   "execution_count": null,
   "metadata": {
    "colab": {
     "base_uri": "https://localhost:8080/",
     "height": 204
    },
    "id": "Wuhp1Nhh2r9r",
    "outputId": "2dbb14f6-97fc-4c9f-cd34-83f020e34b1c"
   },
   "outputs": [],
   "source": [
    "cleanTweet.head()"
   ]
  },
  {
   "cell_type": "code",
   "execution_count": null,
   "metadata": {
    "colab": {
     "base_uri": "https://localhost:8080/",
     "height": 359
    },
    "id": "b7Hxt4SKswiI",
    "outputId": "794021f8-18f1-4725-96e4-989d8faa5ed4"
   },
   "outputs": [],
   "source": [
    "cleanTweet[1990:2000]"
   ]
  },
  {
   "cell_type": "code",
   "execution_count": null,
   "metadata": {
    "colab": {
     "base_uri": "https://localhost:8080/"
    },
    "id": "ikCUttvK3JWY",
    "outputId": "fec3bd50-c975-433b-8fbf-c314cdea99e0"
   },
   "outputs": [],
   "source": [
    "cleanTweet.groupby('score')['original_text'].count()"
   ]
  },
  {
   "cell_type": "code",
   "execution_count": null,
   "metadata": {
    "id": "WTEFJvsRzqfI"
   },
   "outputs": [],
   "source": [
    "scoremap = pd.Series([1 if row_val == 'positive' else 0 for row_val in cleanTweet['score']])"
   ]
  },
  {
   "cell_type": "code",
   "execution_count": null,
   "metadata": {
    "colab": {
     "base_uri": "https://localhost:8080/"
    },
    "id": "_I9e0ez414yc",
    "outputId": "b6f8babd-b55b-42ce-bb26-4ee459309fb5"
   },
   "outputs": [],
   "source": [
    "len(scoremap)"
   ]
  },
  {
   "cell_type": "code",
   "execution_count": null,
   "metadata": {
    "id": "1I3sfO8W1iYR"
   },
   "outputs": [],
   "source": [
    "cleanTweet['scoremap'] = scoremap"
   ]
  },
  {
   "cell_type": "code",
   "execution_count": null,
   "metadata": {
    "id": "ZmydamRs0ckr"
   },
   "outputs": [],
   "source": [
    "# cleanTweet = pd.concat([cleanTweet, scoremap.rename(\"scoremap\")], axis=1)"
   ]
  },
  {
   "cell_type": "code",
   "execution_count": null,
   "metadata": {
    "colab": {
     "base_uri": "https://localhost:8080/",
     "height": 359
    },
    "id": "oQOiFP8w2cBN",
    "outputId": "820c7861-1752-43bf-c693-590360cfcf8d"
   },
   "outputs": [],
   "source": [
    "cleanTweet[2000:2010]"
   ]
  },
  {
   "cell_type": "code",
   "execution_count": null,
   "metadata": {
    "id": "A_z553uS90ml"
   },
   "outputs": [],
   "source": [
    "X = cleanTweet['original_text']\n",
    "y = cleanTweet['scoremap']"
   ]
  },
  {
   "cell_type": "code",
   "execution_count": null,
   "metadata": {
    "id": "GQwmmv_m_Z7R"
   },
   "outputs": [],
   "source": [
    "X_train, X_test, y_train, y_test = train_test_split(X, y, test_size=0.25, random_state=42)"
   ]
  },
  {
   "cell_type": "code",
   "execution_count": null,
   "metadata": {
    "colab": {
     "base_uri": "https://localhost:8080/"
    },
    "id": "03hjSjfa_sRP",
    "outputId": "9a981fdc-e764-4f12-dc32-1c46e005bedd"
   },
   "outputs": [],
   "source": [
    "print(X_train.size)\n",
    "print(X_test.size)\n",
    "print(y_train.size)\n",
    "print(y_test.size)"
   ]
  },
  {
   "cell_type": "code",
   "execution_count": null,
   "metadata": {
    "id": "67mb9M93AGS3"
   },
   "outputs": [],
   "source": [
    "from sklearn.linear_model import SGDClassifier\n",
    "from sklearn.preprocessing import StandardScaler\n",
    "from sklearn.pipeline import make_pipeline\n",
    "from sklearn.feature_extraction.text import CountVectorizer"
   ]
  },
  {
   "cell_type": "code",
   "execution_count": null,
   "metadata": {
    "id": "1JiqzuJCqKUR"
   },
   "outputs": [],
   "source": [
    "count_vect = CountVectorizer(3,3)\n",
    "X_train = X_train.replace(np.nan, '', regex=True)\n",
    "X_train_counts = count_vect.fit_transform(X_train)\n",
    "X_train_counts = X_train_counts.toarray()"
   ]
  },
  {
   "cell_type": "code",
   "execution_count": null,
   "metadata": {
    "id": "ZEl3H1i3qZ4y"
   },
   "outputs": [],
   "source": [
    "y_train = y_train.fillna(0)"
   ]
  },
  {
   "cell_type": "code",
   "execution_count": null,
   "metadata": {
    "id": "Gycgrk56qqYx"
   },
   "outputs": [],
   "source": [
    "# scaling the input\n",
    "clf = make_pipeline(StandardScaler(),\n",
    "...                     SGDClassifier(max_iter=9000, tol=1e-2))"
   ]
  },
  {
   "cell_type": "code",
   "execution_count": null,
   "metadata": {
    "colab": {
     "base_uri": "https://localhost:8080/"
    },
    "id": "DcgkKVj3qr_M",
    "outputId": "f3fe444d-c8e1-42c7-87fc-2b9e7e3ab556"
   },
   "outputs": [],
   "source": [
    "clf.fit(X_train_counts, y_train)"
   ]
  },
  {
   "cell_type": "code",
   "execution_count": null,
   "metadata": {
    "id": "AF-qGLMNrEcD"
   },
   "outputs": [],
   "source": [
    "X_test = X_test.replace(np.nan, '', regex=True)\n",
    "# use transform not fit_transform\n",
    "X_test_counts = count_vect.transform(X_test)\n",
    "X_test_counts = X_test_counts.toarray()\n",
    "# prediction = clf.prevaluedict(X_test_counts)\n",
    "prediction = clf.predict(X_test_counts)"
   ]
  },
  {
   "cell_type": "code",
   "execution_count": null,
   "metadata": {
    "id": "iTrbszsMq8ei"
   },
   "outputs": [],
   "source": [
    "# making prediction\n",
    "prediction = clf.predict(X_test_counts)"
   ]
  },
  {
   "cell_type": "code",
   "execution_count": null,
   "metadata": {
    "colab": {
     "base_uri": "https://localhost:8080/"
    },
    "id": "4maKtuJ-rJwj",
    "outputId": "231c8dbc-3047-4b45-f632-7f4cae3a9344"
   },
   "outputs": [],
   "source": [
    "np.mean(prediction == y_test)"
   ]
  },
  {
   "cell_type": "code",
   "execution_count": null,
   "metadata": {
    "id": "LSPWg7LDwwu_"
   },
   "outputs": [],
   "source": []
  }
 ],
 "metadata": {
  "colab": {
   "collapsed_sections": [],
   "name": "Challenge_Day 2.ipynb",
   "provenance": []
  },
  "kernelspec": {
   "display_name": "Python 3 (ipykernel)",
   "language": "python",
   "name": "python3"
  },
  "language_info": {
   "codemirror_mode": {
    "name": "ipython",
    "version": 3
   },
   "file_extension": ".py",
   "mimetype": "text/x-python",
   "name": "python",
   "nbconvert_exporter": "python",
   "pygments_lexer": "ipython3",
   "version": "3.9.7"
  }
 },
 "nbformat": 4,
 "nbformat_minor": 4
}
