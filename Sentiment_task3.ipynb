{
  "nbformat": 4,
  "nbformat_minor": 0,
  "metadata": {
    "colab": {
      "name": "Challenge_Day 2.ipynb",
      "provenance": [],
      "collapsed_sections": []
    },
    "kernelspec": {
      "name": "python3",
      "display_name": "Python 3"
    },
    "language_info": {
      "name": "python"
    }
  },
  "cells": [
    {
      "cell_type": "code",
      "metadata": {
        "id": "ai7NTXzQctLv"
      },
      "source": [
        "import pandas as pd\n",
        "import numpy as np\n",
        "import matplotlib.pyplot as plt\n",
        "from sklearn.model_selection import train_test_split\n",
        "from sklearn.linear_model import SGDClassifier"
      ],
      "execution_count": null,
      "outputs": []
    },
    {
      "cell_type": "code",
      "metadata": {
        "id": "g07Ab8czc9ES"
      },
      "source": [
        "Data = pd.read_csv('processed_tweet_data.csv')"
      ],
      "execution_count": null,
      "outputs": []
    },
    {
      "cell_type": "code",
      "metadata": {
        "id": "k5fJkdAfdHrM"
      },
      "source": [
        "cleanTweet = Data[['original_text','polarity']]"
      ],
      "execution_count": null,
      "outputs": []
    },
    {
      "cell_type": "code",
      "metadata": {
        "id": "2hujAOcRfjQ_"
      },
      "source": [
        "def text_category (p):\n",
        "  if p > 0:\n",
        "    return 'positive'\n",
        "  elif p < 0:\n",
        "    return 'negative'\n",
        "  else:\n",
        "    return 'neutral'"
      ],
      "execution_count": null,
      "outputs": []
    },
    {
      "cell_type": "code",
      "metadata": {
        "id": "BaTpbde1mfpe"
      },
      "source": [
        "score = pd.Series([text_category(row_val) for row_val in cleanTweet['polarity']])"
      ],
      "execution_count": null,
      "outputs": []
    },
    {
      "cell_type": "code",
      "metadata": {
        "id": "vfK64SBXpy1F"
      },
      "source": [
        "cleanTweet = pd.concat([cleanTweet, score.rename(\"score\")], axis=1)"
      ],
      "execution_count": null,
      "outputs": []
    },
    {
      "cell_type": "code",
      "metadata": {
        "colab": {
          "base_uri": "https://localhost:8080/",
          "height": 204
        },
        "id": "2Z2Xi6IWvbHm",
        "outputId": "d3d20c70-8b75-48b4-e44d-13458914add4"
      },
      "source": [
        "cleanTweet.head()"
      ],
      "execution_count": null,
      "outputs": [
        {
          "output_type": "execute_result",
          "data": {
            "text/html": [
              "<div>\n",
              "<style scoped>\n",
              "    .dataframe tbody tr th:only-of-type {\n",
              "        vertical-align: middle;\n",
              "    }\n",
              "\n",
              "    .dataframe tbody tr th {\n",
              "        vertical-align: top;\n",
              "    }\n",
              "\n",
              "    .dataframe thead th {\n",
              "        text-align: right;\n",
              "    }\n",
              "</style>\n",
              "<table border=\"1\" class=\"dataframe\">\n",
              "  <thead>\n",
              "    <tr style=\"text-align: right;\">\n",
              "      <th></th>\n",
              "      <th>original_text</th>\n",
              "      <th>polarity</th>\n",
              "      <th>score</th>\n",
              "    </tr>\n",
              "  </thead>\n",
              "  <tbody>\n",
              "    <tr>\n",
              "      <th>0</th>\n",
              "      <td>🚨Africa is \"in the midst of a full-blown third...</td>\n",
              "      <td>0.166667</td>\n",
              "      <td>positive</td>\n",
              "    </tr>\n",
              "    <tr>\n",
              "      <th>1</th>\n",
              "      <td>Dr Moeti is head of WHO in Africa, and one of ...</td>\n",
              "      <td>0.133333</td>\n",
              "      <td>positive</td>\n",
              "    </tr>\n",
              "    <tr>\n",
              "      <th>2</th>\n",
              "      <td>Thank you @research2note for creating this ama...</td>\n",
              "      <td>0.316667</td>\n",
              "      <td>positive</td>\n",
              "    </tr>\n",
              "    <tr>\n",
              "      <th>3</th>\n",
              "      <td>Former Pfizer VP and Virologist, Dr. Michael Y...</td>\n",
              "      <td>0.086111</td>\n",
              "      <td>positive</td>\n",
              "    </tr>\n",
              "    <tr>\n",
              "      <th>4</th>\n",
              "      <td>I think it’s important that we don’t sell COVA...</td>\n",
              "      <td>0.280000</td>\n",
              "      <td>positive</td>\n",
              "    </tr>\n",
              "  </tbody>\n",
              "</table>\n",
              "</div>"
            ],
            "text/plain": [
              "                                       original_text  polarity     score\n",
              "0  🚨Africa is \"in the midst of a full-blown third...  0.166667  positive\n",
              "1  Dr Moeti is head of WHO in Africa, and one of ...  0.133333  positive\n",
              "2  Thank you @research2note for creating this ama...  0.316667  positive\n",
              "3  Former Pfizer VP and Virologist, Dr. Michael Y...  0.086111  positive\n",
              "4  I think it’s important that we don’t sell COVA...  0.280000  positive"
            ]
          },
          "metadata": {
            "tags": []
          },
          "execution_count": 68
        }
      ]
    },
    {
      "cell_type": "code",
      "metadata": {
        "colab": {
          "base_uri": "https://localhost:8080/",
          "height": 328
        },
        "id": "KezysORCm49Q",
        "outputId": "3dc0bcfd-b087-4909-bd34-b6014aee3406"
      },
      "source": [
        "# Visualize The  score  column using piechart and barchart\n",
        "# Pie chart, where the slices will be ordered and plotted counter-clockwise:\n",
        "labels = ['neutral', 'positive', 'negative']\n",
        "positive = len(cleanTweet[cleanTweet['score'] == \"positive\"])\n",
        "negative = len(cleanTweet[cleanTweet['score'] == \"negative\"])\n",
        "neutral = len(cleanTweet[cleanTweet['score'] == \"neutral\"])\n",
        "\n",
        "# Create a figure for 2 subplots (1 row, 2 columns)\n",
        "fig, ax = plt.subplots(1, 1, figsize = (10,4))\n",
        "\n",
        "# Create a bar plot of score column\n",
        "ax.bar(x=labels, height=[negative, positive, neutral], color='blue')\n",
        "ax.set_title('Barchart of score column')\n",
        "ax.set_xticklabels(labels, rotation=90)\n",
        "\n",
        "# Add a title to the Figure\n",
        "fig.suptitle('Score column plots')\n",
        "\n",
        "# Show the figure\n",
        "fig.show()"
      ],
      "execution_count": null,
      "outputs": [
        {
          "output_type": "display_data",
          "data": {
            "image/png": "[encoded data removed]",
            "text/plain": [
              "<Figure size 720x288 with 1 Axes>"
            ]
          },
          "metadata": {
            "tags": [],
            "needs_background": "light"
          }
        }
      ]
    },
    {
      "cell_type": "code",
      "metadata": {
        "colab": {
          "base_uri": "https://localhost:8080/"
        },
        "id": "tsu6SlTY7xVG",
        "outputId": "ffb2f2da-9ecd-4fa1-8d87-4bf51dc70ec5"
      },
      "source": [
        "cleanTweet.groupby('score')['original_text'].count()"
      ],
      "execution_count": null,
      "outputs": [
        {
          "output_type": "execute_result",
          "data": {
            "text/plain": [
              "score\n",
              "negative     360\n",
              "neutral      201\n",
              "positive    1687\n",
              "Name: original_text, dtype: int64"
            ]
          },
          "metadata": {
            "tags": []
          },
          "execution_count": 70
        }
      ]
    },
    {
      "cell_type": "code",
      "metadata": {
        "colab": {
          "base_uri": "https://localhost:8080/"
        },
        "id": "S-gaZl2q8RE5",
        "outputId": "225a22df-3cf4-47af-e651-5f55949b862f"
      },
      "source": [
        "len(cleanTweet['polarity'])"
      ],
      "execution_count": null,
      "outputs": [
        {
          "output_type": "execute_result",
          "data": {
            "text/plain": [
              "3720"
            ]
          },
          "metadata": {
            "tags": []
          },
          "execution_count": 71
        }
      ]
    },
    {
      "cell_type": "code",
      "metadata": {
        "id": "WQz0oM2Oy1g3"
      },
      "source": [
        "cleanTweet = cleanTweet.drop(cleanTweet[cleanTweet.score == 'neutral'].index)"
      ],
      "execution_count": null,
      "outputs": []
    },
    {
      "cell_type": "code",
      "metadata": {
        "colab": {
          "base_uri": "https://localhost:8080/",
          "height": 204
        },
        "id": "Wuhp1Nhh2r9r",
        "outputId": "2dbb14f6-97fc-4c9f-cd34-83f020e34b1c"
      },
      "source": [
        "cleanTweet.head()"
      ],
      "execution_count": null,
      "outputs": [
        {
          "output_type": "execute_result",
          "data": {
            "text/html": [
              "<div>\n",
              "<style scoped>\n",
              "    .dataframe tbody tr th:only-of-type {\n",
              "        vertical-align: middle;\n",
              "    }\n",
              "\n",
              "    .dataframe tbody tr th {\n",
              "        vertical-align: top;\n",
              "    }\n",
              "\n",
              "    .dataframe thead th {\n",
              "        text-align: right;\n",
              "    }\n",
              "</style>\n",
              "<table border=\"1\" class=\"dataframe\">\n",
              "  <thead>\n",
              "    <tr style=\"text-align: right;\">\n",
              "      <th></th>\n",
              "      <th>original_text</th>\n",
              "      <th>polarity</th>\n",
              "      <th>score</th>\n",
              "    </tr>\n",
              "  </thead>\n",
              "  <tbody>\n",
              "    <tr>\n",
              "      <th>0</th>\n",
              "      <td>🚨Africa is \"in the midst of a full-blown third...</td>\n",
              "      <td>0.166667</td>\n",
              "      <td>positive</td>\n",
              "    </tr>\n",
              "    <tr>\n",
              "      <th>1</th>\n",
              "      <td>Dr Moeti is head of WHO in Africa, and one of ...</td>\n",
              "      <td>0.133333</td>\n",
              "      <td>positive</td>\n",
              "    </tr>\n",
              "    <tr>\n",
              "      <th>2</th>\n",
              "      <td>Thank you @research2note for creating this ama...</td>\n",
              "      <td>0.316667</td>\n",
              "      <td>positive</td>\n",
              "    </tr>\n",
              "    <tr>\n",
              "      <th>3</th>\n",
              "      <td>Former Pfizer VP and Virologist, Dr. Michael Y...</td>\n",
              "      <td>0.086111</td>\n",
              "      <td>positive</td>\n",
              "    </tr>\n",
              "    <tr>\n",
              "      <th>4</th>\n",
              "      <td>I think it’s important that we don’t sell COVA...</td>\n",
              "      <td>0.280000</td>\n",
              "      <td>positive</td>\n",
              "    </tr>\n",
              "  </tbody>\n",
              "</table>\n",
              "</div>"
            ],
            "text/plain": [
              "                                       original_text  polarity     score\n",
              "0  🚨Africa is \"in the midst of a full-blown third...  0.166667  positive\n",
              "1  Dr Moeti is head of WHO in Africa, and one of ...  0.133333  positive\n",
              "2  Thank you @research2note for creating this ama...  0.316667  positive\n",
              "3  Former Pfizer VP and Virologist, Dr. Michael Y...  0.086111  positive\n",
              "4  I think it’s important that we don’t sell COVA...  0.280000  positive"
            ]
          },
          "metadata": {
            "tags": []
          },
          "execution_count": 73
        }
      ]
    },
    {
      "cell_type": "code",
      "metadata": {
        "colab": {
          "base_uri": "https://localhost:8080/",
          "height": 359
        },
        "id": "b7Hxt4SKswiI",
        "outputId": "794021f8-18f1-4725-96e4-989d8faa5ed4"
      },
      "source": [
        "cleanTweet[1990:2000]"
      ],
      "execution_count": null,
      "outputs": [
        {
          "output_type": "execute_result",
          "data": {
            "text/html": [
              "<div>\n",
              "<style scoped>\n",
              "    .dataframe tbody tr th:only-of-type {\n",
              "        vertical-align: middle;\n",
              "    }\n",
              "\n",
              "    .dataframe tbody tr th {\n",
              "        vertical-align: top;\n",
              "    }\n",
              "\n",
              "    .dataframe thead th {\n",
              "        text-align: right;\n",
              "    }\n",
              "</style>\n",
              "<table border=\"1\" class=\"dataframe\">\n",
              "  <thead>\n",
              "    <tr style=\"text-align: right;\">\n",
              "      <th></th>\n",
              "      <th>original_text</th>\n",
              "      <th>polarity</th>\n",
              "      <th>score</th>\n",
              "    </tr>\n",
              "  </thead>\n",
              "  <tbody>\n",
              "    <tr>\n",
              "      <th>2191</th>\n",
              "      <td>Yet another amazingly qualified and courageous...</td>\n",
              "      <td>0.3375</td>\n",
              "      <td>positive</td>\n",
              "    </tr>\n",
              "    <tr>\n",
              "      <th>2192</th>\n",
              "      <td>NaN</td>\n",
              "      <td>0.3375</td>\n",
              "      <td>positive</td>\n",
              "    </tr>\n",
              "    <tr>\n",
              "      <th>2193</th>\n",
              "      <td>BioCubaFarma says phase 3 clinical trial resul...</td>\n",
              "      <td>0.3375</td>\n",
              "      <td>positive</td>\n",
              "    </tr>\n",
              "    <tr>\n",
              "      <th>2194</th>\n",
              "      <td>Africa is in the midst of a full blown third w...</td>\n",
              "      <td>0.3375</td>\n",
              "      <td>positive</td>\n",
              "    </tr>\n",
              "    <tr>\n",
              "      <th>2195</th>\n",
              "      <td>NaN</td>\n",
              "      <td>0.3375</td>\n",
              "      <td>positive</td>\n",
              "    </tr>\n",
              "    <tr>\n",
              "      <th>2196</th>\n",
              "      <td>\"In Africa, #COVID19 cases have increased by 5...</td>\n",
              "      <td>0.3375</td>\n",
              "      <td>positive</td>\n",
              "    </tr>\n",
              "    <tr>\n",
              "      <th>2197</th>\n",
              "      <td>NaN</td>\n",
              "      <td>0.3375</td>\n",
              "      <td>positive</td>\n",
              "    </tr>\n",
              "    <tr>\n",
              "      <th>2198</th>\n",
              "      <td>NaN</td>\n",
              "      <td>-0.0500</td>\n",
              "      <td>negative</td>\n",
              "    </tr>\n",
              "    <tr>\n",
              "      <th>2199</th>\n",
              "      <td>NaN</td>\n",
              "      <td>0.3375</td>\n",
              "      <td>positive</td>\n",
              "    </tr>\n",
              "    <tr>\n",
              "      <th>2200</th>\n",
              "      <td>Dr Moeti is head of WHO in Africa, and one of ...</td>\n",
              "      <td>0.3375</td>\n",
              "      <td>positive</td>\n",
              "    </tr>\n",
              "  </tbody>\n",
              "</table>\n",
              "</div>"
            ],
            "text/plain": [
              "                                          original_text  polarity     score\n",
              "2191  Yet another amazingly qualified and courageous...    0.3375  positive\n",
              "2192                                                NaN    0.3375  positive\n",
              "2193  BioCubaFarma says phase 3 clinical trial resul...    0.3375  positive\n",
              "2194  Africa is in the midst of a full blown third w...    0.3375  positive\n",
              "2195                                                NaN    0.3375  positive\n",
              "2196  \"In Africa, #COVID19 cases have increased by 5...    0.3375  positive\n",
              "2197                                                NaN    0.3375  positive\n",
              "2198                                                NaN   -0.0500  negative\n",
              "2199                                                NaN    0.3375  positive\n",
              "2200  Dr Moeti is head of WHO in Africa, and one of ...    0.3375  positive"
            ]
          },
          "metadata": {
            "tags": []
          },
          "execution_count": 74
        }
      ]
    },
    {
      "cell_type": "code",
      "metadata": {
        "colab": {
          "base_uri": "https://localhost:8080/"
        },
        "id": "ikCUttvK3JWY",
        "outputId": "fec3bd50-c975-433b-8fbf-c314cdea99e0"
      },
      "source": [
        "cleanTweet.groupby('score')['original_text'].count()"
      ],
      "execution_count": null,
      "outputs": [
        {
          "output_type": "execute_result",
          "data": {
            "text/plain": [
              "score\n",
              "negative     360\n",
              "positive    1687\n",
              "Name: original_text, dtype: int64"
            ]
          },
          "metadata": {
            "tags": []
          },
          "execution_count": 75
        }
      ]
    },
    {
      "cell_type": "code",
      "metadata": {
        "id": "WTEFJvsRzqfI"
      },
      "source": [
        "scoremap = pd.Series([1 if row_val == 'positive' else 0 for row_val in cleanTweet['score']])"
      ],
      "execution_count": null,
      "outputs": []
    },
    {
      "cell_type": "code",
      "metadata": {
        "colab": {
          "base_uri": "https://localhost:8080/"
        },
        "id": "_I9e0ez414yc",
        "outputId": "b6f8babd-b55b-42ce-bb26-4ee459309fb5"
      },
      "source": [
        "len(scoremap)"
      ],
      "execution_count": null,
      "outputs": [
        {
          "output_type": "execute_result",
          "data": {
            "text/plain": [
              "3354"
            ]
          },
          "metadata": {
            "tags": []
          },
          "execution_count": 77
        }
      ]
    },
    {
      "cell_type": "code",
      "metadata": {
        "id": "1I3sfO8W1iYR"
      },
      "source": [
        "cleanTweet['scoremap'] = scoremap"
      ],
      "execution_count": null,
      "outputs": []
    },
    {
      "cell_type": "code",
      "metadata": {
        "id": "ZmydamRs0ckr"
      },
      "source": [
        "# cleanTweet = pd.concat([cleanTweet, scoremap.rename(\"scoremap\")], axis=1)"
      ],
      "execution_count": null,
      "outputs": []
    },
    {
      "cell_type": "code",
      "metadata": {
        "colab": {
          "base_uri": "https://localhost:8080/",
          "height": 359
        },
        "id": "oQOiFP8w2cBN",
        "outputId": "820c7861-1752-43bf-c693-590360cfcf8d"
      },
      "source": [
        "cleanTweet[2000:2010]"
      ],
      "execution_count": null,
      "outputs": [
        {
          "output_type": "execute_result",
          "data": {
            "text/html": [
              "<div>\n",
              "<style scoped>\n",
              "    .dataframe tbody tr th:only-of-type {\n",
              "        vertical-align: middle;\n",
              "    }\n",
              "\n",
              "    .dataframe tbody tr th {\n",
              "        vertical-align: top;\n",
              "    }\n",
              "\n",
              "    .dataframe thead th {\n",
              "        text-align: right;\n",
              "    }\n",
              "</style>\n",
              "<table border=\"1\" class=\"dataframe\">\n",
              "  <thead>\n",
              "    <tr style=\"text-align: right;\">\n",
              "      <th></th>\n",
              "      <th>original_text</th>\n",
              "      <th>polarity</th>\n",
              "      <th>score</th>\n",
              "      <th>scoremap</th>\n",
              "    </tr>\n",
              "  </thead>\n",
              "  <tbody>\n",
              "    <tr>\n",
              "      <th>2201</th>\n",
              "      <td>NaN</td>\n",
              "      <td>0.337500</td>\n",
              "      <td>positive</td>\n",
              "      <td>1.0</td>\n",
              "    </tr>\n",
              "    <tr>\n",
              "      <th>2202</th>\n",
              "      <td>NaN</td>\n",
              "      <td>0.337500</td>\n",
              "      <td>positive</td>\n",
              "      <td>1.0</td>\n",
              "    </tr>\n",
              "    <tr>\n",
              "      <th>2203</th>\n",
              "      <td>Dr Moeti is head of WHO in Africa, and one of ...</td>\n",
              "      <td>-0.050000</td>\n",
              "      <td>negative</td>\n",
              "      <td>1.0</td>\n",
              "    </tr>\n",
              "    <tr>\n",
              "      <th>2204</th>\n",
              "      <td>NaN</td>\n",
              "      <td>0.337500</td>\n",
              "      <td>positive</td>\n",
              "      <td>1.0</td>\n",
              "    </tr>\n",
              "    <tr>\n",
              "      <th>2205</th>\n",
              "      <td>Dr Moeti is head of WHO in Africa, and one of ...</td>\n",
              "      <td>0.700000</td>\n",
              "      <td>positive</td>\n",
              "      <td>0.0</td>\n",
              "    </tr>\n",
              "    <tr>\n",
              "      <th>2206</th>\n",
              "      <td>Africa is in the midst of a full blown third w...</td>\n",
              "      <td>0.093750</td>\n",
              "      <td>positive</td>\n",
              "      <td>1.0</td>\n",
              "    </tr>\n",
              "    <tr>\n",
              "      <th>2207</th>\n",
              "      <td>\"Large pockets of unvaccinated people let the ...</td>\n",
              "      <td>0.195833</td>\n",
              "      <td>positive</td>\n",
              "      <td>1.0</td>\n",
              "    </tr>\n",
              "    <tr>\n",
              "      <th>2208</th>\n",
              "      <td>Dr Moeti is head of WHO in Africa, and one of ...</td>\n",
              "      <td>0.027273</td>\n",
              "      <td>positive</td>\n",
              "      <td>1.0</td>\n",
              "    </tr>\n",
              "    <tr>\n",
              "      <th>2209</th>\n",
              "      <td>@UN, @WHO, @UNRWA\\nDo you have some good plan ...</td>\n",
              "      <td>-0.050000</td>\n",
              "      <td>negative</td>\n",
              "      <td>1.0</td>\n",
              "    </tr>\n",
              "    <tr>\n",
              "      <th>2210</th>\n",
              "      <td>NaN</td>\n",
              "      <td>0.337500</td>\n",
              "      <td>positive</td>\n",
              "      <td>1.0</td>\n",
              "    </tr>\n",
              "  </tbody>\n",
              "</table>\n",
              "</div>"
            ],
            "text/plain": [
              "                                          original_text  ...  scoremap\n",
              "2201                                                NaN  ...       1.0\n",
              "2202                                                NaN  ...       1.0\n",
              "2203  Dr Moeti is head of WHO in Africa, and one of ...  ...       1.0\n",
              "2204                                                NaN  ...       1.0\n",
              "2205  Dr Moeti is head of WHO in Africa, and one of ...  ...       0.0\n",
              "2206  Africa is in the midst of a full blown third w...  ...       1.0\n",
              "2207  \"Large pockets of unvaccinated people let the ...  ...       1.0\n",
              "2208  Dr Moeti is head of WHO in Africa, and one of ...  ...       1.0\n",
              "2209  @UN, @WHO, @UNRWA\\nDo you have some good plan ...  ...       1.0\n",
              "2210                                                NaN  ...       1.0\n",
              "\n",
              "[10 rows x 4 columns]"
            ]
          },
          "metadata": {
            "tags": []
          },
          "execution_count": 92
        }
      ]
    },
    {
      "cell_type": "code",
      "metadata": {
        "id": "A_z553uS90ml"
      },
      "source": [
        "X = cleanTweet['original_text']\n",
        "y = cleanTweet['scoremap']"
      ],
      "execution_count": null,
      "outputs": []
    },
    {
      "cell_type": "code",
      "metadata": {
        "id": "GQwmmv_m_Z7R"
      },
      "source": [
        "X_train, X_test, y_train, y_test = train_test_split(X, y, test_size=0.25, random_state=42)"
      ],
      "execution_count": null,
      "outputs": []
    },
    {
      "cell_type": "code",
      "metadata": {
        "colab": {
          "base_uri": "https://localhost:8080/"
        },
        "id": "03hjSjfa_sRP",
        "outputId": "9a981fdc-e764-4f12-dc32-1c46e005bedd"
      },
      "source": [
        "print(X_train.size)\n",
        "print(X_test.size)\n",
        "print(y_train.size)\n",
        "print(y_test.size)"
      ],
      "execution_count": null,
      "outputs": [
        {
          "output_type": "stream",
          "text": [
            "2515\n",
            "839\n",
            "2515\n",
            "839\n"
          ],
          "name": "stdout"
        }
      ]
    },
    {
      "cell_type": "code",
      "metadata": {
        "id": "67mb9M93AGS3"
      },
      "source": [
        "from sklearn.linear_model import SGDClassifier\n",
        "from sklearn.preprocessing import StandardScaler\n",
        "from sklearn.pipeline import make_pipeline\n",
        "from sklearn.feature_extraction.text import CountVectorizer"
      ],
      "execution_count": null,
      "outputs": []
    },
    {
      "cell_type": "code",
      "metadata": {
        "id": "1JiqzuJCqKUR"
      },
      "source": [
        "count_vect = CountVectorizer(3,3)\n",
        "X_train = X_train.replace(np.nan, '', regex=True)\n",
        "X_train_counts = count_vect.fit_transform(X_train)\n",
        "X_train_counts = X_train_counts.toarray()"
      ],
      "execution_count": null,
      "outputs": []
    },
    {
      "cell_type": "code",
      "metadata": {
        "id": "ZEl3H1i3qZ4y"
      },
      "source": [
        "y_train = y_train.fillna(0)"
      ],
      "execution_count": null,
      "outputs": []
    },
    {
      "cell_type": "code",
      "metadata": {
        "id": "Gycgrk56qqYx"
      },
      "source": [
        "# scaling the input\n",
        "clf = make_pipeline(StandardScaler(),\n",
        "...                     SGDClassifier(max_iter=9000, tol=1e-2))"
      ],
      "execution_count": null,
      "outputs": []
    },
    {
      "cell_type": "code",
      "metadata": {
        "colab": {
          "base_uri": "https://localhost:8080/"
        },
        "id": "DcgkKVj3qr_M",
        "outputId": "f3fe444d-c8e1-42c7-87fc-2b9e7e3ab556"
      },
      "source": [
        "clf.fit(X_train_counts, y_train)"
      ],
      "execution_count": null,
      "outputs": [
        {
          "output_type": "execute_result",
          "data": {
            "text/plain": [
              "Pipeline(memory=None,\n",
              "         steps=[('standardscaler',\n",
              "                 StandardScaler(copy=True, with_mean=True, with_std=True)),\n",
              "                ('sgdclassifier',\n",
              "                 SGDClassifier(alpha=0.0001, average=False, class_weight=None,\n",
              "                               early_stopping=False, epsilon=0.1, eta0=0.0,\n",
              "                               fit_intercept=True, l1_ratio=0.15,\n",
              "                               learning_rate='optimal', loss='hinge',\n",
              "                               max_iter=9000, n_iter_no_change=5, n_jobs=None,\n",
              "                               penalty='l2', power_t=0.5, random_state=None,\n",
              "                               shuffle=True, tol=0.01, validation_fraction=0.1,\n",
              "                               verbose=0, warm_start=False))],\n",
              "         verbose=False)"
            ]
          },
          "metadata": {
            "tags": []
          },
          "execution_count": 123
        }
      ]
    },
    {
      "cell_type": "code",
      "metadata": {
        "id": "AF-qGLMNrEcD"
      },
      "source": [
        "X_test = X_test.replace(np.nan, '', regex=True)\n",
        "# use transform not fit_transform\n",
        "X_test_counts = count_vect.transform(X_test)\n",
        "X_test_counts = X_test_counts.toarray()\n",
        "# prediction = clf.prevaluedict(X_test_counts)\n",
        "prediction = clf.predict(X_test_counts)"
      ],
      "execution_count": null,
      "outputs": []
    },
    {
      "cell_type": "code",
      "metadata": {
        "id": "iTrbszsMq8ei"
      },
      "source": [
        "# making prediction\n",
        "prediction = clf.predict(X_test_counts)"
      ],
      "execution_count": null,
      "outputs": []
    },
    {
      "cell_type": "code",
      "metadata": {
        "colab": {
          "base_uri": "https://localhost:8080/"
        },
        "id": "4maKtuJ-rJwj",
        "outputId": "231c8dbc-3047-4b45-f632-7f4cae3a9344"
      },
      "source": [
        "np.mean(prediction == y_test)"
      ],
      "execution_count": null,
      "outputs": [
        {
          "output_type": "execute_result",
          "data": {
            "text/plain": [
              "0.6865315852205006"
            ]
          },
          "metadata": {
            "tags": []
          },
          "execution_count": 125
        }
      ]
    },
    {
      "cell_type": "code",
      "metadata": {
        "id": "LSPWg7LDwwu_"
      },
      "source": [],
      "execution_count": null,
      "outputs": []
    }
  ]
}
